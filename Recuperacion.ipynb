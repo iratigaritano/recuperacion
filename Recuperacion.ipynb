{
 "cells": [
  {
   "cell_type": "markdown",
   "metadata": {},
   "source": [
    "# Recuperacion DS"
   ]
  },
  {
   "cell_type": "markdown",
   "metadata": {},
   "source": [
    "## Ariketa 1"
   ]
  },
  {
   "cell_type": "code",
   "execution_count": 371,
   "metadata": {},
   "outputs": [],
   "source": [
    "from lxml import html\n",
    "import requests\n",
    "import codecs\n",
    "import Levenshtein\n",
    "import pandas as pd\n",
    "import numpy as np\n",
    "from sklearn.metrics.pairwise import cosine_similarity\n",
    "from sklearn.feature_extraction.text import CountVectorizer\n",
    "import string\n",
    "import nltk\n",
    "from nltk.corpus import stopwords  \n",
    "from nltk.tokenize import word_tokenize, sent_tokenize\n",
    "\n",
    "from lxml import html\n",
    "import requests\n",
    "import codecs\n",
    "\n",
    "import gensim"
   ]
  },
  {
   "cell_type": "code",
   "execution_count": 372,
   "metadata": {},
   "outputs": [],
   "source": [
    "pagina = 'https://dreguera.github.io/'"
   ]
  },
  {
   "cell_type": "code",
   "execution_count": 373,
   "metadata": {},
   "outputs": [],
   "source": [
    "page = requests.get(pagina)\n",
    "tree = html.fromstring(page.content)"
   ]
  },
  {
   "cell_type": "markdown",
   "metadata": {},
   "source": [
    "##### Primer y segundo mensaje de Dani Reguera"
   ]
  },
  {
   "cell_type": "code",
   "execution_count": 374,
   "metadata": {},
   "outputs": [],
   "source": [
    "persona = tree.xpath(\"//div[@id='ariketa2']/div[@class='post']/div/span[@id='author']/text()\") "
   ]
  },
  {
   "cell_type": "code",
   "execution_count": 375,
   "metadata": {},
   "outputs": [
    {
     "data": {
      "text/plain": [
       "['Dani Reguera dreguera@mondragon.edu',\n",
       " 'Carlos Cernuda ccernuda@mondragon.edu',\n",
       " 'Dani Reguera dreguera@mondragon.edu',\n",
       " 'Carlos Cernuda ccernuda@mondragon.edu',\n",
       " 'Sara Segura spsegura@mondragon.edu',\n",
       " 'Aitor Bediaga abediaga@mondragon.edu',\n",
       " 'Sara Segura spsegura@mondragon.edu',\n",
       " 'Carlos Cernuda ccernuda@mondragon.edu']"
      ]
     },
     "execution_count": 375,
     "metadata": {},
     "output_type": "execute_result"
    }
   ],
   "source": [
    "persona"
   ]
  },
  {
   "cell_type": "code",
   "execution_count": 376,
   "metadata": {},
   "outputs": [],
   "source": [
    "mensaje = tree.xpath(\"//div[@id='ariketa2']/div[@class='post']/div/div[@id='content']/text()\") "
   ]
  },
  {
   "cell_type": "code",
   "execution_count": 377,
   "metadata": {},
   "outputs": [
    {
     "data": {
      "text/plain": [
       "['He estado corrigiendo los trabajos de Data Science y la parte de aprendizaje no supervisado la han realizado bastante bien, Â¿QuÃ© algoritmos de clustering has dado en clase?',\n",
       " 'Hola Dani, en la parte de no supervisado me he centrado sobre todo en el clustering por densidad. Hemos visto Optics, DBSCAN y HDSCAN',\n",
       " 'MeanShift para clustering por densidad habeis visto? Yo suelo utilizar para datos numÃ©ricos y me da muy buenos resultados para descartar outliers',\n",
       " 'Si, la verdad es que da buenos resultados pero cuando si puedes hacer ajustes manuales de otros parÃ¡metros, OPTICS y DBSCAN son mÃ¡s Ã³ptimos',\n",
       " 'El tema del clutering por densidad me parece super interesante pero no se si tendrÃ\\xada aplicabilidad en el Reto 7',\n",
       " 'Creo que podrÃ\\xadamos traer a una empresa para que les hablara de HDBSCAN',\n",
       " 'Guay! me parece super interesante y puede ser super enriquecedor',\n",
       " 'Perfecto']"
      ]
     },
     "execution_count": 377,
     "metadata": {},
     "output_type": "execute_result"
    }
   ],
   "source": [
    "mensaje"
   ]
  },
  {
   "cell_type": "code",
   "execution_count": 378,
   "metadata": {},
   "outputs": [
    {
     "name": "stdout",
     "output_type": "stream",
     "text": [
      "0\n",
      "2\n"
     ]
    }
   ],
   "source": [
    "a=\"Dani\"\n",
    "b=-1\n",
    "for i in persona:\n",
    "    e=i.split(' ')[0]\n",
    "    b=b+1\n",
    "    if Levenshtein.distance(e,a)==0:\n",
    "        print(b)\n",
    "        "
   ]
  },
  {
   "cell_type": "code",
   "execution_count": 379,
   "metadata": {},
   "outputs": [],
   "source": [
    "file_docs=[]\n",
    "file_docs2=[]\n",
    "tokens = sent_tokenize(mensaje[0]) \n",
    "for line in tokens:\n",
    "    file_docs.append(line) \n",
    "    \n",
    "tokens = sent_tokenize(mensaje[2])\n",
    "for line in tokens:\n",
    "    file_docs2.append(line)"
   ]
  },
  {
   "cell_type": "code",
   "execution_count": 380,
   "metadata": {},
   "outputs": [
    {
     "data": {
      "text/plain": [
       "['MeanShift para clustering por densidad habeis visto?',\n",
       " 'Yo suelo utilizar para datos numÃ©ricos y me da muy buenos resultados para descartar outliers']"
      ]
     },
     "execution_count": 380,
     "metadata": {},
     "output_type": "execute_result"
    }
   ],
   "source": [
    "file_docs2"
   ]
  },
  {
   "cell_type": "code",
   "execution_count": 381,
   "metadata": {},
   "outputs": [],
   "source": [
    "gen_docs = [[w.lower() for w in word_tokenize(text)]  \n",
    "            for text in file_docs]"
   ]
  },
  {
   "cell_type": "code",
   "execution_count": 382,
   "metadata": {},
   "outputs": [],
   "source": [
    "gen_docs2 = [[w.lower() for w in word_tokenize(text)] \n",
    "            for text in file_docs2]"
   ]
  },
  {
   "cell_type": "code",
   "execution_count": 383,
   "metadata": {},
   "outputs": [
    {
     "name": "stdout",
     "output_type": "stream",
     "text": [
      "{',': 0, '?': 1, 'algoritmos': 2, 'aprendizaje': 3, 'bastante': 4, 'bien': 5, 'clase': 6, 'clustering': 7, 'corrigiendo': 8, 'dado': 9, 'data': 10, 'de': 11, 'en': 12, 'estado': 13, 'han': 14, 'has': 15, 'he': 16, 'la': 17, 'los': 18, 'no': 19, 'parte': 20, 'realizado': 21, 'science': 22, 'supervisado': 23, 'trabajos': 24, 'y': 25, 'â¿quã©': 26}\n"
     ]
    }
   ],
   "source": [
    "dictionary = gensim.corpora.Dictionary(gen_docs) \n",
    "print(dictionary.token2id)"
   ]
  },
  {
   "cell_type": "code",
   "execution_count": 384,
   "metadata": {},
   "outputs": [],
   "source": [
    "corpus = [dictionary.doc2bow(gen_doc) for gen_doc in gen_docs]"
   ]
  },
  {
   "cell_type": "code",
   "execution_count": 385,
   "metadata": {},
   "outputs": [],
   "source": [
    "tf_idf = gensim.models.TfidfModel(corpus)"
   ]
  },
  {
   "cell_type": "code",
   "execution_count": 386,
   "metadata": {},
   "outputs": [
    {
     "data": {
      "text/plain": [
       "<gensim.models.tfidfmodel.TfidfModel at 0x7efffb538100>"
      ]
     },
     "execution_count": 386,
     "metadata": {},
     "output_type": "execute_result"
    }
   ],
   "source": [
    "tf_idf"
   ]
  },
  {
   "cell_type": "code",
   "execution_count": 387,
   "metadata": {},
   "outputs": [],
   "source": [
    "sims = gensim.similarities.Similarity('a/',tf_idf[corpus],\n",
    "                                        num_features=len(dictionary))"
   ]
  },
  {
   "cell_type": "code",
   "execution_count": 388,
   "metadata": {},
   "outputs": [],
   "source": [
    "for line in file_docs2:\n",
    "    query_doc = [w.lower() for w in word_tokenize(line)]\n",
    "    query_doc_bow = dictionary.doc2bow(query_doc)"
   ]
  },
  {
   "cell_type": "code",
   "execution_count": 389,
   "metadata": {},
   "outputs": [],
   "source": [
    "query_doc_tf_idf = tf_idf[query_doc_bow]\n"
   ]
  },
  {
   "cell_type": "code",
   "execution_count": 390,
   "metadata": {},
   "outputs": [
    {
     "name": "stdout",
     "output_type": "stream",
     "text": [
      "Comparing Result: [0.]\n"
     ]
    }
   ],
   "source": [
    "print('Comparing Result:', sims[query_doc_tf_idf]) \n"
   ]
  },
  {
   "cell_type": "code",
   "execution_count": 391,
   "metadata": {},
   "outputs": [
    {
     "name": "stdout",
     "output_type": "stream",
     "text": [
      "0.0\n"
     ]
    }
   ],
   "source": [
    "sum_of_sims =(np.sum(sims[query_doc_tf_idf], dtype=np.float32))\n",
    "print(sum_of_sims)"
   ]
  },
  {
   "cell_type": "code",
   "execution_count": 392,
   "metadata": {},
   "outputs": [
    {
     "name": "stdout",
     "output_type": "stream",
     "text": [
      "El porcentaje de similitud entre el primer y segundo mensaje de Dani Reguera: 0.0\n"
     ]
    }
   ],
   "source": [
    "print(f'El porcentaje de similitud entre el primer y segundo mensaje de Dani Reguera: {float(sum_of_sims / len(file_docs)) * 100}')"
   ]
  },
  {
   "cell_type": "markdown",
   "metadata": {},
   "source": [
    "#### Primer y segundo mensaje de Carlos Cernuda"
   ]
  },
  {
   "cell_type": "code",
   "execution_count": 393,
   "metadata": {},
   "outputs": [
    {
     "name": "stdout",
     "output_type": "stream",
     "text": [
      "1\n",
      "3\n",
      "7\n"
     ]
    }
   ],
   "source": [
    "a=\"Carlos\"\n",
    "b=-1\n",
    "for i in persona:\n",
    "    e=i.split(' ')[0]\n",
    "    b=b+1\n",
    "    if Levenshtein.distance(e,a)==0:\n",
    "        print(b)\n",
    "        "
   ]
  },
  {
   "cell_type": "code",
   "execution_count": 394,
   "metadata": {},
   "outputs": [],
   "source": [
    "file_docs=[]\n",
    "file_docs2=[]\n",
    "tokens = sent_tokenize(mensaje[1]) \n",
    "for line in tokens:\n",
    "    file_docs.append(line) \n",
    "    \n",
    "tokens = sent_tokenize(mensaje[3])\n",
    "for line in tokens:\n",
    "    file_docs2.append(line)"
   ]
  },
  {
   "cell_type": "code",
   "execution_count": 395,
   "metadata": {},
   "outputs": [
    {
     "data": {
      "text/plain": [
       "['Si, la verdad es que da buenos resultados pero cuando si puedes hacer ajustes manuales de otros parÃ¡metros, OPTICS y DBSCAN son mÃ¡s Ã³ptimos']"
      ]
     },
     "execution_count": 395,
     "metadata": {},
     "output_type": "execute_result"
    }
   ],
   "source": [
    "file_docs2"
   ]
  },
  {
   "cell_type": "code",
   "execution_count": 397,
   "metadata": {},
   "outputs": [],
   "source": [
    "gen_docs = [[w.lower() for w in word_tokenize(text)]  \n",
    "            for text in file_docs]"
   ]
  },
  {
   "cell_type": "code",
   "execution_count": 398,
   "metadata": {},
   "outputs": [],
   "source": [
    "gen_docs2 = [[w.lower() for w in word_tokenize(text)] \n",
    "            for text in file_docs2]"
   ]
  },
  {
   "cell_type": "code",
   "execution_count": 399,
   "metadata": {},
   "outputs": [
    {
     "name": "stdout",
     "output_type": "stream",
     "text": [
      "{',': 0, '.': 1, 'centrado': 2, 'clustering': 3, 'dani': 4, 'de': 5, 'densidad': 6, 'el': 7, 'en': 8, 'he': 9, 'hola': 10, 'la': 11, 'me': 12, 'no': 13, 'parte': 14, 'por': 15, 'sobre': 16, 'supervisado': 17, 'todo': 18, 'dbscan': 19, 'hdscan': 20, 'hemos': 21, 'optics': 22, 'visto': 23, 'y': 24}\n"
     ]
    }
   ],
   "source": [
    "dictionary = gensim.corpora.Dictionary(gen_docs) \n",
    "print(dictionary.token2id)"
   ]
  },
  {
   "cell_type": "code",
   "execution_count": 400,
   "metadata": {},
   "outputs": [],
   "source": [
    "corpus = [dictionary.doc2bow(gen_doc) for gen_doc in gen_docs]"
   ]
  },
  {
   "cell_type": "code",
   "execution_count": 401,
   "metadata": {},
   "outputs": [],
   "source": [
    "tf_idf = gensim.models.TfidfModel(corpus)"
   ]
  },
  {
   "cell_type": "code",
   "execution_count": 402,
   "metadata": {},
   "outputs": [
    {
     "data": {
      "text/plain": [
       "<gensim.models.tfidfmodel.TfidfModel at 0x7efffb528d30>"
      ]
     },
     "execution_count": 402,
     "metadata": {},
     "output_type": "execute_result"
    }
   ],
   "source": [
    "tf_idf"
   ]
  },
  {
   "cell_type": "code",
   "execution_count": 403,
   "metadata": {},
   "outputs": [
    {
     "name": "stdout",
     "output_type": "stream",
     "text": [
      "[['.', 0.22], ['centrado', 0.22], ['clustering', 0.22], ['dani', 0.22], ['de', 0.22], ['densidad', 0.22], ['el', 0.22], ['en', 0.44], ['he', 0.22], ['hola', 0.22], ['la', 0.22], ['me', 0.22], ['no', 0.22], ['parte', 0.22], ['por', 0.22], ['sobre', 0.22], ['supervisado', 0.22], ['todo', 0.22]]\n",
      "[['dbscan', 0.41], ['hdscan', 0.41], ['hemos', 0.41], ['optics', 0.41], ['visto', 0.41], ['y', 0.41]]\n"
     ]
    }
   ],
   "source": [
    "for doc in tf_idf[corpus]:\n",
    "    print([[dictionary[id], np.around(freq, decimals=2)] for id, freq in doc])"
   ]
  },
  {
   "cell_type": "code",
   "execution_count": 404,
   "metadata": {},
   "outputs": [],
   "source": [
    "sims = gensim.similarities.Similarity('a/',tf_idf[corpus],\n",
    "                                        num_features=len(dictionary))"
   ]
  },
  {
   "cell_type": "code",
   "execution_count": 405,
   "metadata": {},
   "outputs": [],
   "source": [
    "for line in file_docs2:\n",
    "    query_doc = [w.lower() for w in word_tokenize(line)]\n",
    "    query_doc_bow = dictionary.doc2bow(query_doc)"
   ]
  },
  {
   "cell_type": "code",
   "execution_count": 406,
   "metadata": {},
   "outputs": [],
   "source": [
    "query_doc_tf_idf = tf_idf[query_doc_bow]\n"
   ]
  },
  {
   "cell_type": "code",
   "execution_count": 407,
   "metadata": {},
   "outputs": [
    {
     "name": "stdout",
     "output_type": "stream",
     "text": [
      "Comparing Result: [0.19518001 0.5477226 ]\n"
     ]
    }
   ],
   "source": [
    "print('Comparing Result:', sims[query_doc_tf_idf]) \n"
   ]
  },
  {
   "cell_type": "code",
   "execution_count": 408,
   "metadata": {},
   "outputs": [
    {
     "name": "stdout",
     "output_type": "stream",
     "text": [
      "0.7429026\n"
     ]
    }
   ],
   "source": [
    "sum_of_sims =(np.sum(sims[query_doc_tf_idf], dtype=np.float32))\n",
    "print(sum_of_sims)"
   ]
  },
  {
   "cell_type": "code",
   "execution_count": 409,
   "metadata": {
    "scrolled": true
   },
   "outputs": [
    {
     "name": "stdout",
     "output_type": "stream",
     "text": [
      "El porcentaje de similitud entre el primer y segundo mensaje de Carlos Cernuda: 37.14512884616852\n"
     ]
    }
   ],
   "source": [
    "print(f'El porcentaje de similitud entre el primer y segundo mensaje de Carlos Cernuda: {float(sum_of_sims / len(file_docs)) * 100}')"
   ]
  },
  {
   "cell_type": "markdown",
   "metadata": {},
   "source": [
    "#### Primeros mensajes de Carlos y Sara"
   ]
  },
  {
   "cell_type": "code",
   "execution_count": 410,
   "metadata": {},
   "outputs": [
    {
     "name": "stdout",
     "output_type": "stream",
     "text": [
      "1\n",
      "3\n",
      "7\n"
     ]
    }
   ],
   "source": [
    "a=\"Carlos\"\n",
    "b=-1\n",
    "for i in persona:\n",
    "    e=i.split(' ')[0]\n",
    "    b=b+1\n",
    "    if Levenshtein.distance(e,a)==0:\n",
    "        print(b)\n",
    "        "
   ]
  },
  {
   "cell_type": "code",
   "execution_count": 411,
   "metadata": {},
   "outputs": [
    {
     "name": "stdout",
     "output_type": "stream",
     "text": [
      "4\n",
      "6\n"
     ]
    }
   ],
   "source": [
    "a=\"Sara\"\n",
    "b=-1\n",
    "for i in persona:\n",
    "    e=i.split(' ')[0]\n",
    "    b=b+1\n",
    "    if Levenshtein.distance(e,a)==0:\n",
    "        print(b)\n",
    "        "
   ]
  },
  {
   "cell_type": "code",
   "execution_count": 412,
   "metadata": {},
   "outputs": [],
   "source": [
    "file_docs=[]\n",
    "file_docs2=[]\n",
    "tokens = sent_tokenize(mensaje[1]) \n",
    "for line in tokens:\n",
    "    file_docs.append(line) \n",
    "    \n",
    "tokens = sent_tokenize(mensaje[4])\n",
    "for line in tokens:\n",
    "    file_docs2.append(line)"
   ]
  },
  {
   "cell_type": "code",
   "execution_count": 413,
   "metadata": {},
   "outputs": [
    {
     "data": {
      "text/plain": [
       "['El tema del clutering por densidad me parece super interesante pero no se si tendrÃ\\xada aplicabilidad en el Reto 7']"
      ]
     },
     "execution_count": 413,
     "metadata": {},
     "output_type": "execute_result"
    }
   ],
   "source": [
    "file_docs2"
   ]
  },
  {
   "cell_type": "code",
   "execution_count": 414,
   "metadata": {},
   "outputs": [],
   "source": [
    "gen_docs = [[w.lower() for w in word_tokenize(text)]  \n",
    "            for text in file_docs]"
   ]
  },
  {
   "cell_type": "code",
   "execution_count": 415,
   "metadata": {},
   "outputs": [],
   "source": [
    "gen_docs2 = [[w.lower() for w in word_tokenize(text)] \n",
    "            for text in file_docs2]"
   ]
  },
  {
   "cell_type": "code",
   "execution_count": 416,
   "metadata": {},
   "outputs": [
    {
     "name": "stdout",
     "output_type": "stream",
     "text": [
      "{',': 0, '.': 1, 'centrado': 2, 'clustering': 3, 'dani': 4, 'de': 5, 'densidad': 6, 'el': 7, 'en': 8, 'he': 9, 'hola': 10, 'la': 11, 'me': 12, 'no': 13, 'parte': 14, 'por': 15, 'sobre': 16, 'supervisado': 17, 'todo': 18, 'dbscan': 19, 'hdscan': 20, 'hemos': 21, 'optics': 22, 'visto': 23, 'y': 24}\n"
     ]
    }
   ],
   "source": [
    "dictionary = gensim.corpora.Dictionary(gen_docs) \n",
    "print(dictionary.token2id)"
   ]
  },
  {
   "cell_type": "code",
   "execution_count": 417,
   "metadata": {},
   "outputs": [],
   "source": [
    "corpus = [dictionary.doc2bow(gen_doc) for gen_doc in gen_docs]"
   ]
  },
  {
   "cell_type": "code",
   "execution_count": 418,
   "metadata": {},
   "outputs": [],
   "source": [
    "tf_idf = gensim.models.TfidfModel(corpus)"
   ]
  },
  {
   "cell_type": "code",
   "execution_count": 419,
   "metadata": {},
   "outputs": [
    {
     "data": {
      "text/plain": [
       "<gensim.models.tfidfmodel.TfidfModel at 0x7efffb528d60>"
      ]
     },
     "execution_count": 419,
     "metadata": {},
     "output_type": "execute_result"
    }
   ],
   "source": [
    "tf_idf"
   ]
  },
  {
   "cell_type": "code",
   "execution_count": 420,
   "metadata": {},
   "outputs": [
    {
     "name": "stdout",
     "output_type": "stream",
     "text": [
      "[['.', 0.22], ['centrado', 0.22], ['clustering', 0.22], ['dani', 0.22], ['de', 0.22], ['densidad', 0.22], ['el', 0.22], ['en', 0.44], ['he', 0.22], ['hola', 0.22], ['la', 0.22], ['me', 0.22], ['no', 0.22], ['parte', 0.22], ['por', 0.22], ['sobre', 0.22], ['supervisado', 0.22], ['todo', 0.22]]\n",
      "[['dbscan', 0.41], ['hdscan', 0.41], ['hemos', 0.41], ['optics', 0.41], ['visto', 0.41], ['y', 0.41]]\n"
     ]
    }
   ],
   "source": [
    "for doc in tf_idf[corpus]:\n",
    "    print([[dictionary[id], np.around(freq, decimals=2)] for id, freq in doc])"
   ]
  },
  {
   "cell_type": "code",
   "execution_count": 421,
   "metadata": {},
   "outputs": [],
   "source": [
    "sims = gensim.similarities.Similarity('a/',tf_idf[corpus],\n",
    "                                        num_features=len(dictionary))"
   ]
  },
  {
   "cell_type": "code",
   "execution_count": 422,
   "metadata": {},
   "outputs": [],
   "source": [
    "for line in file_docs2:\n",
    "    query_doc = [w.lower() for w in word_tokenize(line)]\n",
    "    query_doc_bow = dictionary.doc2bow(query_doc)"
   ]
  },
  {
   "cell_type": "code",
   "execution_count": 423,
   "metadata": {},
   "outputs": [],
   "source": [
    "query_doc_tf_idf = tf_idf[query_doc_bow]\n"
   ]
  },
  {
   "cell_type": "code",
   "execution_count": 424,
   "metadata": {},
   "outputs": [
    {
     "name": "stdout",
     "output_type": "stream",
     "text": [
      "Comparing Result: [0.5819144 0.       ]\n"
     ]
    }
   ],
   "source": [
    "print('Comparing Result:', sims[query_doc_tf_idf]) \n"
   ]
  },
  {
   "cell_type": "code",
   "execution_count": 425,
   "metadata": {},
   "outputs": [
    {
     "name": "stdout",
     "output_type": "stream",
     "text": [
      "0.5819144\n"
     ]
    }
   ],
   "source": [
    "sum_of_sims =(np.sum(sims[query_doc_tf_idf], dtype=np.float32))\n",
    "print(sum_of_sims)"
   ]
  },
  {
   "cell_type": "code",
   "execution_count": 426,
   "metadata": {},
   "outputs": [
    {
     "name": "stdout",
     "output_type": "stream",
     "text": [
      "El porcentaje de similitud entre los primeros mensajes de Carlos Cernuda y Sara Segura: 29.09572124481201\n"
     ]
    }
   ],
   "source": [
    "print(f'El porcentaje de similitud entre los primeros mensajes de Carlos Cernuda y Sara Segura: {float(sum_of_sims / len(file_docs)) * 100}')"
   ]
  },
  {
   "cell_type": "markdown",
   "metadata": {},
   "source": [
    "#### Los mensajes que más se asemejan"
   ]
  },
  {
   "cell_type": "code",
   "execution_count": 427,
   "metadata": {},
   "outputs": [],
   "source": [
    "count_vectorizer = CountVectorizer()\n",
    "vectorizer = CountVectorizer().fit_transform(mensaje)\n",
    "vectors = vectorizer.toarray()"
   ]
  },
  {
   "cell_type": "code",
   "execution_count": 428,
   "metadata": {},
   "outputs": [
    {
     "data": {
      "text/plain": [
       "array([[0, 1, 0, 0, 1, 1, 1, 0, 0, 1, 1, 0, 1, 0, 0, 0, 1, 0, 1, 0, 0, 3,\n",
       "        0, 0, 0, 0, 0, 1, 0, 0, 1, 0, 0, 0, 0, 1, 1, 0, 0, 1, 0, 0, 0, 2,\n",
       "        0, 1, 0, 0, 0, 0, 0, 0, 1, 0, 0, 0, 0, 0, 0, 1, 0, 0, 0, 0, 0, 0,\n",
       "        0, 0, 1, 1, 0, 0, 0, 1, 0, 0, 0, 0, 0, 0, 0, 1, 0, 0, 0, 1, 0, 0,\n",
       "        0, 0, 0, 0, 0],\n",
       "       [0, 0, 0, 0, 0, 0, 0, 0, 1, 0, 1, 0, 0, 0, 0, 0, 0, 1, 0, 0, 1, 1,\n",
       "        0, 1, 0, 1, 0, 2, 0, 0, 0, 0, 0, 0, 0, 0, 0, 0, 1, 1, 1, 1, 0, 1,\n",
       "        0, 0, 0, 1, 0, 0, 0, 0, 1, 0, 1, 0, 0, 0, 0, 1, 0, 0, 0, 0, 1, 0,\n",
       "        0, 0, 0, 0, 0, 0, 0, 0, 0, 0, 0, 1, 0, 0, 0, 1, 0, 0, 1, 0, 0, 0,\n",
       "        0, 0, 1, 0, 0],\n",
       "       [0, 0, 0, 0, 0, 0, 0, 1, 0, 0, 1, 0, 0, 0, 0, 1, 0, 0, 0, 1, 0, 0,\n",
       "        0, 1, 1, 0, 0, 0, 0, 0, 0, 0, 1, 0, 0, 0, 0, 0, 0, 0, 0, 0, 0, 0,\n",
       "        0, 0, 0, 1, 1, 0, 1, 0, 0, 1, 0, 0, 1, 3, 0, 0, 0, 0, 0, 0, 1, 0,\n",
       "        0, 0, 0, 0, 1, 0, 1, 0, 0, 0, 0, 0, 0, 1, 0, 0, 0, 0, 0, 0, 0, 0,\n",
       "        1, 0, 1, 1, 0],\n",
       "       [1, 0, 0, 0, 0, 0, 0, 1, 0, 0, 0, 0, 0, 0, 1, 1, 0, 0, 0, 0, 1, 1,\n",
       "        0, 0, 0, 0, 0, 0, 0, 1, 0, 0, 0, 0, 1, 0, 0, 0, 0, 0, 0, 0, 0, 1,\n",
       "        0, 0, 1, 0, 0, 1, 0, 1, 0, 0, 1, 1, 0, 0, 0, 0, 1, 0, 1, 0, 0, 0,\n",
       "        1, 1, 0, 0, 1, 0, 0, 0, 0, 0, 2, 0, 1, 0, 0, 0, 0, 0, 0, 0, 0, 0,\n",
       "        0, 1, 0, 0, 1],\n",
       "       [0, 0, 0, 1, 0, 0, 0, 0, 0, 0, 0, 1, 0, 0, 0, 0, 0, 0, 0, 0, 0, 0,\n",
       "        1, 1, 0, 2, 0, 1, 0, 0, 0, 0, 0, 0, 0, 0, 0, 0, 0, 0, 0, 0, 1, 0,\n",
       "        0, 0, 0, 1, 0, 0, 0, 0, 1, 0, 0, 0, 0, 0, 1, 0, 0, 0, 1, 0, 1, 0,\n",
       "        0, 0, 0, 0, 0, 1, 0, 0, 1, 0, 1, 0, 0, 0, 1, 0, 1, 1, 0, 0, 0, 0,\n",
       "        0, 0, 0, 0, 0],\n",
       "       [0, 0, 1, 0, 0, 0, 0, 0, 0, 0, 0, 0, 0, 1, 0, 0, 0, 0, 0, 0, 0, 1,\n",
       "        0, 0, 0, 0, 1, 0, 0, 0, 0, 0, 0, 1, 0, 0, 0, 1, 0, 0, 0, 0, 0, 0,\n",
       "        1, 0, 0, 0, 0, 0, 0, 0, 0, 0, 0, 0, 0, 1, 0, 0, 0, 0, 0, 1, 0, 0,\n",
       "        0, 2, 0, 0, 0, 0, 0, 0, 0, 0, 0, 0, 0, 0, 0, 0, 0, 0, 0, 0, 1, 1,\n",
       "        0, 0, 0, 0, 0],\n",
       "       [0, 0, 0, 0, 0, 0, 0, 0, 0, 0, 0, 0, 0, 0, 0, 0, 0, 0, 0, 0, 0, 0,\n",
       "        0, 0, 0, 0, 0, 0, 1, 0, 0, 1, 0, 0, 0, 0, 0, 0, 0, 0, 0, 0, 1, 0,\n",
       "        0, 0, 0, 1, 0, 0, 0, 0, 0, 0, 0, 0, 0, 0, 1, 0, 0, 0, 0, 0, 0, 1,\n",
       "        0, 0, 0, 0, 0, 0, 0, 0, 0, 1, 0, 0, 0, 0, 2, 0, 0, 0, 0, 0, 0, 0,\n",
       "        0, 0, 0, 0, 0],\n",
       "       [0, 0, 0, 0, 0, 0, 0, 0, 0, 0, 0, 0, 0, 0, 0, 0, 0, 0, 0, 0, 0, 0,\n",
       "        0, 0, 0, 0, 0, 0, 0, 0, 0, 0, 0, 0, 0, 0, 0, 0, 0, 0, 0, 0, 0, 0,\n",
       "        0, 0, 0, 0, 0, 0, 0, 0, 0, 0, 0, 0, 0, 0, 0, 0, 0, 1, 0, 0, 0, 0,\n",
       "        0, 0, 0, 0, 0, 0, 0, 0, 0, 0, 0, 0, 0, 0, 0, 0, 0, 0, 0, 0, 0, 0,\n",
       "        0, 0, 0, 0, 0]])"
      ]
     },
     "execution_count": 428,
     "metadata": {},
     "output_type": "execute_result"
    }
   ],
   "source": [
    "vectors"
   ]
  },
  {
   "cell_type": "code",
   "execution_count": 429,
   "metadata": {},
   "outputs": [],
   "source": [
    "csim=cosine_similarity(vectors)"
   ]
  },
  {
   "cell_type": "code",
   "execution_count": 430,
   "metadata": {},
   "outputs": [
    {
     "data": {
      "text/plain": [
       "array([[1.        , 0.40567404, 0.03194383, 0.16574839, 0.07377111,\n",
       "        0.13093073, 0.        , 0.        ],\n",
       "       [0.40567404, 1.        , 0.18898224, 0.15689291, 0.34914862,\n",
       "        0.05163978, 0.06030227, 0.        ],\n",
       "       [0.03194383, 0.18898224, 1.        , 0.1111874 , 0.12371791,\n",
       "        0.14638501, 0.05698029, 0.        ],\n",
       "       [0.16574839, 0.15689291, 0.1111874 , 1.        , 0.12838815,\n",
       "        0.15191091, 0.        , 0.        ],\n",
       "       [0.07377111, 0.34914862, 0.12371791, 0.12838815, 1.        ,\n",
       "        0.        , 0.32897585, 0.        ],\n",
       "       [0.13093073, 0.05163978, 0.14638501, 0.15191091, 0.        ,\n",
       "        1.        , 0.        , 0.        ],\n",
       "       [0.        , 0.06030227, 0.05698029, 0.        , 0.32897585,\n",
       "        0.        , 1.        , 0.        ],\n",
       "       [0.        , 0.        , 0.        , 0.        , 0.        ,\n",
       "        0.        , 0.        , 1.        ]])"
      ]
     },
     "execution_count": 430,
     "metadata": {},
     "output_type": "execute_result"
    }
   ],
   "source": [
    "csim"
   ]
  },
  {
   "cell_type": "code",
   "execution_count": 431,
   "metadata": {},
   "outputs": [
    {
     "data": {
      "image/png": "[encoded data removed]",
      "text/plain": [
       "<Figure size 432x288 with 2 Axes>"
      ]
     },
     "metadata": {},
     "output_type": "display_data"
    }
   ],
   "source": [
    "import seaborn as sns; sns.set_theme()\n",
    "ax = sns.heatmap(csim, cmap='Greys')"
   ]
  },
  {
   "cell_type": "markdown",
   "metadata": {},
   "source": [
    "Los dos mensajes que mas se asemejan son el primero [0] y el segundo [1] con un 0.40567404."
   ]
  },
  {
   "cell_type": "markdown",
   "metadata": {},
   "source": [
    "## Ariketa 2"
   ]
  },
  {
   "cell_type": "code",
   "execution_count": 432,
   "metadata": {},
   "outputs": [],
   "source": [
    "import pandas as pd\n",
    "\n",
    "df= pd.read_csv(\"Spotify-2000.csv\")"
   ]
  },
  {
   "cell_type": "code",
   "execution_count": 433,
   "metadata": {},
   "outputs": [
    {
     "data": {
      "text/html": [
       "<div>\n",
       "<style scoped>\n",
       "    .dataframe tbody tr th:only-of-type {\n",
       "        vertical-align: middle;\n",
       "    }\n",
       "\n",
       "    .dataframe tbody tr th {\n",
       "        vertical-align: top;\n",
       "    }\n",
       "\n",
       "    .dataframe thead th {\n",
       "        text-align: right;\n",
       "    }\n",
       "</style>\n",
       "<table border=\"1\" class=\"dataframe\">\n",
       "  <thead>\n",
       "    <tr style=\"text-align: right;\">\n",
       "      <th></th>\n",
       "      <th>Index</th>\n",
       "      <th>Title</th>\n",
       "      <th>Artist</th>\n",
       "      <th>Top Genre</th>\n",
       "      <th>Year</th>\n",
       "      <th>Beats Per Minute (BPM)</th>\n",
       "      <th>Energy</th>\n",
       "      <th>Danceability</th>\n",
       "      <th>Loudness (dB)</th>\n",
       "      <th>Liveness</th>\n",
       "      <th>Valence</th>\n",
       "      <th>Length (Duration)</th>\n",
       "      <th>Acousticness</th>\n",
       "      <th>Speechiness</th>\n",
       "      <th>Popularity</th>\n",
       "    </tr>\n",
       "  </thead>\n",
       "  <tbody>\n",
       "    <tr>\n",
       "      <th>0</th>\n",
       "      <td>1</td>\n",
       "      <td>Sunrise</td>\n",
       "      <td>Norah Jones</td>\n",
       "      <td>adult standards</td>\n",
       "      <td>2004</td>\n",
       "      <td>157</td>\n",
       "      <td>30</td>\n",
       "      <td>53</td>\n",
       "      <td>-14</td>\n",
       "      <td>11</td>\n",
       "      <td>68</td>\n",
       "      <td>201</td>\n",
       "      <td>94</td>\n",
       "      <td>3</td>\n",
       "      <td>71</td>\n",
       "    </tr>\n",
       "    <tr>\n",
       "      <th>1</th>\n",
       "      <td>2</td>\n",
       "      <td>Black Night</td>\n",
       "      <td>Deep Purple</td>\n",
       "      <td>album rock</td>\n",
       "      <td>2000</td>\n",
       "      <td>135</td>\n",
       "      <td>79</td>\n",
       "      <td>50</td>\n",
       "      <td>-11</td>\n",
       "      <td>17</td>\n",
       "      <td>81</td>\n",
       "      <td>207</td>\n",
       "      <td>17</td>\n",
       "      <td>7</td>\n",
       "      <td>39</td>\n",
       "    </tr>\n",
       "    <tr>\n",
       "      <th>2</th>\n",
       "      <td>3</td>\n",
       "      <td>Clint Eastwood</td>\n",
       "      <td>Gorillaz</td>\n",
       "      <td>alternative hip hop</td>\n",
       "      <td>2001</td>\n",
       "      <td>168</td>\n",
       "      <td>69</td>\n",
       "      <td>66</td>\n",
       "      <td>-9</td>\n",
       "      <td>7</td>\n",
       "      <td>52</td>\n",
       "      <td>341</td>\n",
       "      <td>2</td>\n",
       "      <td>17</td>\n",
       "      <td>69</td>\n",
       "    </tr>\n",
       "    <tr>\n",
       "      <th>3</th>\n",
       "      <td>4</td>\n",
       "      <td>The Pretender</td>\n",
       "      <td>Foo Fighters</td>\n",
       "      <td>alternative metal</td>\n",
       "      <td>2007</td>\n",
       "      <td>173</td>\n",
       "      <td>96</td>\n",
       "      <td>43</td>\n",
       "      <td>-4</td>\n",
       "      <td>3</td>\n",
       "      <td>37</td>\n",
       "      <td>269</td>\n",
       "      <td>0</td>\n",
       "      <td>4</td>\n",
       "      <td>76</td>\n",
       "    </tr>\n",
       "    <tr>\n",
       "      <th>4</th>\n",
       "      <td>5</td>\n",
       "      <td>Waitin' On A Sunny Day</td>\n",
       "      <td>Bruce Springsteen</td>\n",
       "      <td>classic rock</td>\n",
       "      <td>2002</td>\n",
       "      <td>106</td>\n",
       "      <td>82</td>\n",
       "      <td>58</td>\n",
       "      <td>-5</td>\n",
       "      <td>10</td>\n",
       "      <td>87</td>\n",
       "      <td>256</td>\n",
       "      <td>1</td>\n",
       "      <td>3</td>\n",
       "      <td>59</td>\n",
       "    </tr>\n",
       "  </tbody>\n",
       "</table>\n",
       "</div>"
      ],
      "text/plain": [
       "   Index                   Title             Artist            Top Genre  \\\n",
       "0      1                 Sunrise        Norah Jones      adult standards   \n",
       "1      2             Black Night        Deep Purple           album rock   \n",
       "2      3          Clint Eastwood           Gorillaz  alternative hip hop   \n",
       "3      4           The Pretender       Foo Fighters    alternative metal   \n",
       "4      5  Waitin' On A Sunny Day  Bruce Springsteen         classic rock   \n",
       "\n",
       "   Year  Beats Per Minute (BPM)  Energy  Danceability  Loudness (dB)  \\\n",
       "0  2004                     157      30            53            -14   \n",
       "1  2000                     135      79            50            -11   \n",
       "2  2001                     168      69            66             -9   \n",
       "3  2007                     173      96            43             -4   \n",
       "4  2002                     106      82            58             -5   \n",
       "\n",
       "   Liveness  Valence Length (Duration)  Acousticness  Speechiness  Popularity  \n",
       "0        11       68               201            94            3          71  \n",
       "1        17       81               207            17            7          39  \n",
       "2         7       52               341             2           17          69  \n",
       "3         3       37               269             0            4          76  \n",
       "4        10       87               256             1            3          59  "
      ]
     },
     "execution_count": 433,
     "metadata": {},
     "output_type": "execute_result"
    }
   ],
   "source": [
    "df.head()"
   ]
  },
  {
   "cell_type": "code",
   "execution_count": 434,
   "metadata": {},
   "outputs": [],
   "source": [
    "def combined_features(row):\n",
    "    return row['Artist']+\" \"+row['Top Genre']\n",
    "df[\"combined_features\"] = df.apply(combined_features, axis =1)"
   ]
  },
  {
   "cell_type": "code",
   "execution_count": 435,
   "metadata": {},
   "outputs": [],
   "source": [
    "vectorizer = CountVectorizer().fit_transform(df[\"combined_features\"]) \n",
    "vectors = vectorizer.toarray() "
   ]
  },
  {
   "cell_type": "code",
   "execution_count": 436,
   "metadata": {},
   "outputs": [],
   "source": [
    "csim=cosine_similarity(vectors)"
   ]
  },
  {
   "cell_type": "code",
   "execution_count": 437,
   "metadata": {},
   "outputs": [
    {
     "data": {
      "text/plain": [
       "array([[1.  , 0.  , 0.  , ..., 0.  , 0.  , 0.5 ],\n",
       "       [0.  , 1.  , 0.  , ..., 0.25, 0.  , 0.  ],\n",
       "       [0.  , 0.  , 1.  , ..., 0.  , 0.  , 0.  ],\n",
       "       ...,\n",
       "       [0.  , 0.25, 0.  , ..., 1.  , 0.  , 0.  ],\n",
       "       [0.  , 0.  , 0.  , ..., 0.  , 1.  , 0.  ],\n",
       "       [0.5 , 0.  , 0.  , ..., 0.  , 0.  , 1.  ]])"
      ]
     },
     "execution_count": 437,
     "metadata": {},
     "output_type": "execute_result"
    }
   ],
   "source": [
    "csim"
   ]
  },
  {
   "cell_type": "code",
   "execution_count": 438,
   "metadata": {},
   "outputs": [],
   "source": [
    "def get_title_from_index(Index):\n",
    "    return df[df.Index == Index][\"Title\"].values[0]"
   ]
  },
  {
   "cell_type": "code",
   "execution_count": 439,
   "metadata": {},
   "outputs": [
    {
     "data": {
      "text/plain": [
       "'The Road Ahead (Miles Of The Unknown)'"
      ]
     },
     "execution_count": 439,
     "metadata": {},
     "output_type": "execute_result"
    }
   ],
   "source": [
    "song_index=get_title_from_index(6)\n",
    "song_index"
   ]
  },
  {
   "cell_type": "code",
   "execution_count": 440,
   "metadata": {},
   "outputs": [],
   "source": [
    "similar_songs = list(enumerate(csim[6])) "
   ]
  },
  {
   "cell_type": "code",
   "execution_count": 441,
   "metadata": {},
   "outputs": [
    {
     "data": {
      "text/plain": [
       "[(6, 0.9999999999999998),\n",
       " (787, 0.9999999999999998),\n",
       " (1765, 0.4999999999999999),\n",
       " (24, 0.408248290463863),\n",
       " (51, 0.408248290463863),\n",
       " (57, 0.408248290463863),\n",
       " (66, 0.408248290463863),\n",
       " (75, 0.408248290463863),\n",
       " (81, 0.408248290463863),\n",
       " (85, 0.408248290463863),\n",
       " (93, 0.408248290463863),\n",
       " (120, 0.408248290463863),\n",
       " (122, 0.408248290463863),\n",
       " (125, 0.408248290463863),\n",
       " (174, 0.408248290463863),\n",
       " (176, 0.408248290463863),\n",
       " (191, 0.408248290463863),\n",
       " (210, 0.408248290463863),\n",
       " (235, 0.408248290463863),\n",
       " (243, 0.408248290463863),\n",
       " (246, 0.408248290463863),\n",
       " (255, 0.408248290463863),\n",
       " (256, 0.408248290463863),\n",
       " (265, 0.408248290463863),\n",
       " (266, 0.408248290463863),\n",
       " (280, 0.408248290463863),\n",
       " (285, 0.408248290463863),\n",
       " (289, 0.408248290463863),\n",
       " (294, 0.408248290463863),\n",
       " (295, 0.408248290463863),\n",
       " (297, 0.408248290463863),\n",
       " (301, 0.408248290463863),\n",
       " (304, 0.408248290463863),\n",
       " (351, 0.408248290463863),\n",
       " (362, 0.408248290463863),\n",
       " (367, 0.408248290463863),\n",
       " (412, 0.408248290463863),\n",
       " (415, 0.408248290463863),\n",
       " (424, 0.408248290463863),\n",
       " (437, 0.408248290463863),\n",
       " (444, 0.408248290463863),\n",
       " (463, 0.408248290463863),\n",
       " (466, 0.408248290463863),\n",
       " (467, 0.408248290463863),\n",
       " (468, 0.408248290463863),\n",
       " (469, 0.408248290463863),\n",
       " (472, 0.408248290463863),\n",
       " (480, 0.408248290463863),\n",
       " (486, 0.408248290463863),\n",
       " (487, 0.408248290463863),\n",
       " (489, 0.408248290463863),\n",
       " (493, 0.408248290463863),\n",
       " (509, 0.408248290463863),\n",
       " (513, 0.408248290463863),\n",
       " (515, 0.408248290463863),\n",
       " (516, 0.408248290463863),\n",
       " (523, 0.408248290463863),\n",
       " (527, 0.408248290463863),\n",
       " (533, 0.408248290463863),\n",
       " (534, 0.408248290463863),\n",
       " (540, 0.408248290463863),\n",
       " (544, 0.408248290463863),\n",
       " (549, 0.408248290463863),\n",
       " (550, 0.408248290463863),\n",
       " (564, 0.408248290463863),\n",
       " (565, 0.408248290463863),\n",
       " (570, 0.408248290463863),\n",
       " (574, 0.408248290463863),\n",
       " (577, 0.408248290463863),\n",
       " (578, 0.408248290463863),\n",
       " (581, 0.408248290463863),\n",
       " (591, 0.408248290463863),\n",
       " (593, 0.408248290463863),\n",
       " (595, 0.408248290463863),\n",
       " (597, 0.408248290463863),\n",
       " (598, 0.408248290463863),\n",
       " (599, 0.408248290463863),\n",
       " (646, 0.408248290463863),\n",
       " (654, 0.408248290463863),\n",
       " (661, 0.408248290463863),\n",
       " (681, 0.408248290463863),\n",
       " (682, 0.408248290463863),\n",
       " (683, 0.408248290463863),\n",
       " (684, 0.408248290463863),\n",
       " (686, 0.408248290463863),\n",
       " (687, 0.408248290463863),\n",
       " (691, 0.408248290463863),\n",
       " (708, 0.408248290463863),\n",
       " (709, 0.408248290463863),\n",
       " (711, 0.408248290463863),\n",
       " (721, 0.408248290463863),\n",
       " (725, 0.408248290463863),\n",
       " (740, 0.408248290463863),\n",
       " (751, 0.408248290463863),\n",
       " (773, 0.408248290463863),\n",
       " (796, 0.408248290463863),\n",
       " (892, 0.408248290463863),\n",
       " (1134, 0.408248290463863),\n",
       " (1141, 0.408248290463863),\n",
       " (1147, 0.408248290463863),\n",
       " (1150, 0.408248290463863),\n",
       " (1209, 0.408248290463863),\n",
       " (1221, 0.408248290463863),\n",
       " (1228, 0.408248290463863),\n",
       " (1231, 0.408248290463863),\n",
       " (1232, 0.408248290463863),\n",
       " (1239, 0.408248290463863),\n",
       " (1240, 0.408248290463863),\n",
       " (1257, 0.408248290463863),\n",
       " (1259, 0.408248290463863),\n",
       " (1302, 0.408248290463863),\n",
       " (1383, 0.408248290463863),\n",
       " (1397, 0.408248290463863),\n",
       " (1414, 0.408248290463863),\n",
       " (1416, 0.408248290463863),\n",
       " (1430, 0.408248290463863),\n",
       " (1494, 0.408248290463863),\n",
       " (1544, 0.408248290463863),\n",
       " (1545, 0.408248290463863),\n",
       " (1645, 0.408248290463863),\n",
       " (1659, 0.408248290463863),\n",
       " (1661, 0.408248290463863),\n",
       " (1662, 0.408248290463863),\n",
       " (1663, 0.408248290463863),\n",
       " (1667, 0.408248290463863),\n",
       " (1685, 0.408248290463863),\n",
       " (1760, 0.408248290463863),\n",
       " (1801, 0.408248290463863),\n",
       " (1942, 0.408248290463863),\n",
       " (19, 0.35355339059327373),\n",
       " (22, 0.35355339059327373),\n",
       " (28, 0.35355339059327373),\n",
       " (39, 0.35355339059327373),\n",
       " (45, 0.35355339059327373),\n",
       " (49, 0.35355339059327373),\n",
       " (54, 0.35355339059327373),\n",
       " (68, 0.35355339059327373),\n",
       " (96, 0.35355339059327373),\n",
       " (101, 0.35355339059327373),\n",
       " (105, 0.35355339059327373),\n",
       " (113, 0.35355339059327373),\n",
       " (121, 0.35355339059327373),\n",
       " (147, 0.35355339059327373),\n",
       " (152, 0.35355339059327373),\n",
       " (170, 0.35355339059327373),\n",
       " (180, 0.35355339059327373),\n",
       " (182, 0.35355339059327373),\n",
       " (199, 0.35355339059327373),\n",
       " (204, 0.35355339059327373),\n",
       " (220, 0.35355339059327373),\n",
       " (226, 0.35355339059327373),\n",
       " (227, 0.35355339059327373),\n",
       " (248, 0.35355339059327373),\n",
       " (252, 0.35355339059327373),\n",
       " (283, 0.35355339059327373),\n",
       " (296, 0.35355339059327373),\n",
       " (320, 0.35355339059327373),\n",
       " (326, 0.35355339059327373),\n",
       " (334, 0.35355339059327373),\n",
       " (337, 0.35355339059327373),\n",
       " (347, 0.35355339059327373),\n",
       " (352, 0.35355339059327373),\n",
       " (354, 0.35355339059327373),\n",
       " (358, 0.35355339059327373),\n",
       " (364, 0.35355339059327373),\n",
       " (365, 0.35355339059327373),\n",
       " (369, 0.35355339059327373),\n",
       " (374, 0.35355339059327373),\n",
       " (384, 0.35355339059327373),\n",
       " (394, 0.35355339059327373),\n",
       " (395, 0.35355339059327373),\n",
       " (404, 0.35355339059327373),\n",
       " (406, 0.35355339059327373),\n",
       " (414, 0.35355339059327373),\n",
       " (421, 0.35355339059327373),\n",
       " (422, 0.35355339059327373),\n",
       " (428, 0.35355339059327373),\n",
       " (431, 0.35355339059327373),\n",
       " (448, 0.35355339059327373),\n",
       " (491, 0.35355339059327373),\n",
       " (492, 0.35355339059327373),\n",
       " (505, 0.35355339059327373),\n",
       " (506, 0.35355339059327373),\n",
       " (508, 0.35355339059327373),\n",
       " (514, 0.35355339059327373),\n",
       " (547, 0.35355339059327373),\n",
       " (559, 0.35355339059327373),\n",
       " (560, 0.35355339059327373),\n",
       " (572, 0.35355339059327373),\n",
       " (587, 0.35355339059327373),\n",
       " (592, 0.35355339059327373),\n",
       " (596, 0.35355339059327373),\n",
       " (608, 0.35355339059327373),\n",
       " (610, 0.35355339059327373),\n",
       " (612, 0.35355339059327373),\n",
       " (629, 0.35355339059327373),\n",
       " (641, 0.35355339059327373),\n",
       " (644, 0.35355339059327373),\n",
       " (655, 0.35355339059327373),\n",
       " (669, 0.35355339059327373),\n",
       " (678, 0.35355339059327373),\n",
       " (692, 0.35355339059327373),\n",
       " (713, 0.35355339059327373),\n",
       " (720, 0.35355339059327373),\n",
       " (726, 0.35355339059327373),\n",
       " (727, 0.35355339059327373),\n",
       " (728, 0.35355339059327373),\n",
       " (733, 0.35355339059327373),\n",
       " (734, 0.35355339059327373),\n",
       " (736, 0.35355339059327373),\n",
       " (737, 0.35355339059327373),\n",
       " (738, 0.35355339059327373),\n",
       " (747, 0.35355339059327373),\n",
       " (750, 0.35355339059327373),\n",
       " (757, 0.35355339059327373),\n",
       " (758, 0.35355339059327373),\n",
       " (759, 0.35355339059327373),\n",
       " (770, 0.35355339059327373),\n",
       " (772, 0.35355339059327373),\n",
       " (774, 0.35355339059327373),\n",
       " (775, 0.35355339059327373),\n",
       " (777, 0.35355339059327373),\n",
       " (779, 0.35355339059327373),\n",
       " (792, 0.35355339059327373),\n",
       " (793, 0.35355339059327373),\n",
       " (794, 0.35355339059327373),\n",
       " (798, 0.35355339059327373),\n",
       " (903, 0.35355339059327373),\n",
       " (957, 0.35355339059327373),\n",
       " (1047, 0.35355339059327373),\n",
       " (1055, 0.35355339059327373),\n",
       " (1056, 0.35355339059327373),\n",
       " (1084, 0.35355339059327373),\n",
       " (1088, 0.35355339059327373),\n",
       " (1101, 0.35355339059327373),\n",
       " (1133, 0.35355339059327373),\n",
       " (1222, 0.35355339059327373),\n",
       " (1260, 0.35355339059327373),\n",
       " (1263, 0.35355339059327373),\n",
       " (1298, 0.35355339059327373),\n",
       " (1319, 0.35355339059327373),\n",
       " (1320, 0.35355339059327373),\n",
       " (1336, 0.35355339059327373),\n",
       " (1355, 0.35355339059327373),\n",
       " (1368, 0.35355339059327373),\n",
       " (1409, 0.35355339059327373),\n",
       " (1411, 0.35355339059327373),\n",
       " (1446, 0.35355339059327373),\n",
       " (1460, 0.35355339059327373),\n",
       " (1505, 0.35355339059327373),\n",
       " (1549, 0.35355339059327373),\n",
       " (1554, 0.35355339059327373),\n",
       " (1573, 0.35355339059327373),\n",
       " (1584, 0.35355339059327373),\n",
       " (1595, 0.35355339059327373),\n",
       " (1619, 0.35355339059327373),\n",
       " (1641, 0.35355339059327373),\n",
       " (1700, 0.35355339059327373),\n",
       " (1706, 0.35355339059327373),\n",
       " (1713, 0.35355339059327373),\n",
       " (1714, 0.35355339059327373),\n",
       " (1717, 0.35355339059327373),\n",
       " (1741, 0.35355339059327373),\n",
       " (1742, 0.35355339059327373),\n",
       " (1788, 0.35355339059327373),\n",
       " (1798, 0.35355339059327373),\n",
       " (1807, 0.35355339059327373),\n",
       " (1817, 0.35355339059327373),\n",
       " (1820, 0.35355339059327373),\n",
       " (1822, 0.35355339059327373),\n",
       " (1911, 0.35355339059327373),\n",
       " (1968, 0.35355339059327373),\n",
       " (18, 0.3162277660168379),\n",
       " (35, 0.3162277660168379),\n",
       " (109, 0.3162277660168379),\n",
       " (286, 0.3162277660168379),\n",
       " (324, 0.3162277660168379),\n",
       " (413, 0.3162277660168379),\n",
       " (432, 0.3162277660168379),\n",
       " (461, 0.3162277660168379),\n",
       " (483, 0.3162277660168379),\n",
       " (496, 0.3162277660168379),\n",
       " (532, 0.3162277660168379),\n",
       " (600, 0.3162277660168379),\n",
       " (643, 0.3162277660168379),\n",
       " (649, 0.3162277660168379),\n",
       " (752, 0.3162277660168379),\n",
       " (753, 0.3162277660168379),\n",
       " (825, 0.3162277660168379),\n",
       " (836, 0.3162277660168379),\n",
       " (856, 0.3162277660168379),\n",
       " (868, 0.3162277660168379),\n",
       " (873, 0.3162277660168379),\n",
       " (941, 0.3162277660168379),\n",
       " (952, 0.3162277660168379),\n",
       " (987, 0.3162277660168379),\n",
       " (991, 0.3162277660168379),\n",
       " (1057, 0.3162277660168379),\n",
       " (1109, 0.3162277660168379),\n",
       " (1148, 0.3162277660168379),\n",
       " (1171, 0.3162277660168379),\n",
       " (1173, 0.3162277660168379),\n",
       " (1216, 0.3162277660168379),\n",
       " (1218, 0.3162277660168379),\n",
       " (1220, 0.3162277660168379),\n",
       " (1225, 0.3162277660168379),\n",
       " (1227, 0.3162277660168379),\n",
       " (1370, 0.3162277660168379),\n",
       " (1384, 0.3162277660168379),\n",
       " (1406, 0.3162277660168379),\n",
       " (1413, 0.3162277660168379),\n",
       " (1423, 0.3162277660168379),\n",
       " (1459, 0.3162277660168379),\n",
       " (1461, 0.3162277660168379),\n",
       " (1581, 0.3162277660168379),\n",
       " (1607, 0.3162277660168379),\n",
       " (1670, 0.3162277660168379),\n",
       " (1764, 0.3162277660168379),\n",
       " (1777, 0.3162277660168379),\n",
       " (1783, 0.3162277660168379),\n",
       " (1794, 0.3162277660168379),\n",
       " (1864, 0.3162277660168379),\n",
       " (1871, 0.3162277660168379),\n",
       " (1877, 0.3162277660168379),\n",
       " (1882, 0.3162277660168379),\n",
       " (1892, 0.3162277660168379),\n",
       " (1913, 0.3162277660168379),\n",
       " (1932, 0.3162277660168379),\n",
       " (1940, 0.3162277660168379),\n",
       " (1944, 0.3162277660168379),\n",
       " (1966, 0.3162277660168379),\n",
       " (1971, 0.3162277660168379),\n",
       " (140, 0.2886751345948129),\n",
       " (238, 0.2886751345948129),\n",
       " (397, 0.2886751345948129),\n",
       " (454, 0.2886751345948129),\n",
       " (518, 0.2886751345948129),\n",
       " (575, 0.2886751345948129),\n",
       " (582, 0.2886751345948129),\n",
       " (700, 0.2886751345948129),\n",
       " (704, 0.2886751345948129),\n",
       " (707, 0.2886751345948129),\n",
       " (715, 0.2886751345948129),\n",
       " (745, 0.2886751345948129),\n",
       " (1360, 0.2886751345948129),\n",
       " (1739, 0.2886751345948129),\n",
       " (1867, 0.2886751345948129),\n",
       " (925, 0.26726124191242434),\n",
       " (930, 0.26726124191242434),\n",
       " (5, 0.24999999999999994),\n",
       " (281, 0.2357022603955158),\n",
       " (0, 0.0),\n",
       " (1, 0.0),\n",
       " (2, 0.0),\n",
       " (3, 0.0),\n",
       " (4, 0.0),\n",
       " (7, 0.0),\n",
       " (8, 0.0),\n",
       " (9, 0.0),\n",
       " (10, 0.0),\n",
       " (11, 0.0),\n",
       " (12, 0.0),\n",
       " (13, 0.0),\n",
       " (14, 0.0),\n",
       " (15, 0.0),\n",
       " (16, 0.0),\n",
       " (17, 0.0),\n",
       " (20, 0.0),\n",
       " (21, 0.0),\n",
       " (23, 0.0),\n",
       " (25, 0.0),\n",
       " (26, 0.0),\n",
       " (27, 0.0),\n",
       " (29, 0.0),\n",
       " (30, 0.0),\n",
       " (31, 0.0),\n",
       " (32, 0.0),\n",
       " (33, 0.0),\n",
       " (34, 0.0),\n",
       " (36, 0.0),\n",
       " (37, 0.0),\n",
       " (38, 0.0),\n",
       " (40, 0.0),\n",
       " (41, 0.0),\n",
       " (42, 0.0),\n",
       " (43, 0.0),\n",
       " (44, 0.0),\n",
       " (46, 0.0),\n",
       " (47, 0.0),\n",
       " (48, 0.0),\n",
       " (50, 0.0),\n",
       " (52, 0.0),\n",
       " (53, 0.0),\n",
       " (55, 0.0),\n",
       " (56, 0.0),\n",
       " (58, 0.0),\n",
       " (59, 0.0),\n",
       " (60, 0.0),\n",
       " (61, 0.0),\n",
       " (62, 0.0),\n",
       " (63, 0.0),\n",
       " (64, 0.0),\n",
       " (65, 0.0),\n",
       " (67, 0.0),\n",
       " (69, 0.0),\n",
       " (70, 0.0),\n",
       " (71, 0.0),\n",
       " (72, 0.0),\n",
       " (73, 0.0),\n",
       " (74, 0.0),\n",
       " (76, 0.0),\n",
       " (77, 0.0),\n",
       " (78, 0.0),\n",
       " (79, 0.0),\n",
       " (80, 0.0),\n",
       " (82, 0.0),\n",
       " (83, 0.0),\n",
       " (84, 0.0),\n",
       " (86, 0.0),\n",
       " (87, 0.0),\n",
       " (88, 0.0),\n",
       " (89, 0.0),\n",
       " (90, 0.0),\n",
       " (91, 0.0),\n",
       " (92, 0.0),\n",
       " (94, 0.0),\n",
       " (95, 0.0),\n",
       " (97, 0.0),\n",
       " (98, 0.0),\n",
       " (99, 0.0),\n",
       " (100, 0.0),\n",
       " (102, 0.0),\n",
       " (103, 0.0),\n",
       " (104, 0.0),\n",
       " (106, 0.0),\n",
       " (107, 0.0),\n",
       " (108, 0.0),\n",
       " (110, 0.0),\n",
       " (111, 0.0),\n",
       " (112, 0.0),\n",
       " (114, 0.0),\n",
       " (115, 0.0),\n",
       " (116, 0.0),\n",
       " (117, 0.0),\n",
       " (118, 0.0),\n",
       " (119, 0.0),\n",
       " (123, 0.0),\n",
       " (124, 0.0),\n",
       " (126, 0.0),\n",
       " (127, 0.0),\n",
       " (128, 0.0),\n",
       " (129, 0.0),\n",
       " (130, 0.0),\n",
       " (131, 0.0),\n",
       " (132, 0.0),\n",
       " (133, 0.0),\n",
       " (134, 0.0),\n",
       " (135, 0.0),\n",
       " (136, 0.0),\n",
       " (137, 0.0),\n",
       " (138, 0.0),\n",
       " (139, 0.0),\n",
       " (141, 0.0),\n",
       " (142, 0.0),\n",
       " (143, 0.0),\n",
       " (144, 0.0),\n",
       " (145, 0.0),\n",
       " (146, 0.0),\n",
       " (148, 0.0),\n",
       " (149, 0.0),\n",
       " (150, 0.0),\n",
       " (151, 0.0),\n",
       " (153, 0.0),\n",
       " (154, 0.0),\n",
       " (155, 0.0),\n",
       " (156, 0.0),\n",
       " (157, 0.0),\n",
       " (158, 0.0),\n",
       " (159, 0.0),\n",
       " (160, 0.0),\n",
       " (161, 0.0),\n",
       " (162, 0.0),\n",
       " (163, 0.0),\n",
       " (164, 0.0),\n",
       " (165, 0.0),\n",
       " (166, 0.0),\n",
       " (167, 0.0),\n",
       " (168, 0.0),\n",
       " (169, 0.0),\n",
       " (171, 0.0),\n",
       " (172, 0.0),\n",
       " (173, 0.0),\n",
       " (175, 0.0),\n",
       " (177, 0.0),\n",
       " (178, 0.0),\n",
       " (179, 0.0),\n",
       " (181, 0.0),\n",
       " (183, 0.0),\n",
       " (184, 0.0),\n",
       " (185, 0.0),\n",
       " (186, 0.0),\n",
       " (187, 0.0),\n",
       " (188, 0.0),\n",
       " (189, 0.0),\n",
       " (190, 0.0),\n",
       " (192, 0.0),\n",
       " (193, 0.0),\n",
       " (194, 0.0),\n",
       " (195, 0.0),\n",
       " (196, 0.0),\n",
       " (197, 0.0),\n",
       " (198, 0.0),\n",
       " (200, 0.0),\n",
       " (201, 0.0),\n",
       " (202, 0.0),\n",
       " (203, 0.0),\n",
       " (205, 0.0),\n",
       " (206, 0.0),\n",
       " (207, 0.0),\n",
       " (208, 0.0),\n",
       " (209, 0.0),\n",
       " (211, 0.0),\n",
       " (212, 0.0),\n",
       " (213, 0.0),\n",
       " (214, 0.0),\n",
       " (215, 0.0),\n",
       " (216, 0.0),\n",
       " (217, 0.0),\n",
       " (218, 0.0),\n",
       " (219, 0.0),\n",
       " (221, 0.0),\n",
       " (222, 0.0),\n",
       " (223, 0.0),\n",
       " (224, 0.0),\n",
       " (225, 0.0),\n",
       " (228, 0.0),\n",
       " (229, 0.0),\n",
       " (230, 0.0),\n",
       " (231, 0.0),\n",
       " (232, 0.0),\n",
       " (233, 0.0),\n",
       " (234, 0.0),\n",
       " (236, 0.0),\n",
       " (237, 0.0),\n",
       " (239, 0.0),\n",
       " (240, 0.0),\n",
       " (241, 0.0),\n",
       " (242, 0.0),\n",
       " (244, 0.0),\n",
       " (245, 0.0),\n",
       " (247, 0.0),\n",
       " (249, 0.0),\n",
       " (250, 0.0),\n",
       " (251, 0.0),\n",
       " (253, 0.0),\n",
       " (254, 0.0),\n",
       " (257, 0.0),\n",
       " (258, 0.0),\n",
       " (259, 0.0),\n",
       " (260, 0.0),\n",
       " (261, 0.0),\n",
       " (262, 0.0),\n",
       " (263, 0.0),\n",
       " (264, 0.0),\n",
       " (267, 0.0),\n",
       " (268, 0.0),\n",
       " (269, 0.0),\n",
       " (270, 0.0),\n",
       " (271, 0.0),\n",
       " (272, 0.0),\n",
       " (273, 0.0),\n",
       " (274, 0.0),\n",
       " (275, 0.0),\n",
       " (276, 0.0),\n",
       " (277, 0.0),\n",
       " (278, 0.0),\n",
       " (279, 0.0),\n",
       " (282, 0.0),\n",
       " (284, 0.0),\n",
       " (287, 0.0),\n",
       " (288, 0.0),\n",
       " (290, 0.0),\n",
       " (291, 0.0),\n",
       " (292, 0.0),\n",
       " (293, 0.0),\n",
       " (298, 0.0),\n",
       " (299, 0.0),\n",
       " (300, 0.0),\n",
       " (302, 0.0),\n",
       " (303, 0.0),\n",
       " (305, 0.0),\n",
       " (306, 0.0),\n",
       " (307, 0.0),\n",
       " (308, 0.0),\n",
       " (309, 0.0),\n",
       " (310, 0.0),\n",
       " (311, 0.0),\n",
       " (312, 0.0),\n",
       " (313, 0.0),\n",
       " (314, 0.0),\n",
       " (315, 0.0),\n",
       " (316, 0.0),\n",
       " (317, 0.0),\n",
       " (318, 0.0),\n",
       " (319, 0.0),\n",
       " (321, 0.0),\n",
       " (322, 0.0),\n",
       " (323, 0.0),\n",
       " (325, 0.0),\n",
       " (327, 0.0),\n",
       " (328, 0.0),\n",
       " (329, 0.0),\n",
       " (330, 0.0),\n",
       " (331, 0.0),\n",
       " (332, 0.0),\n",
       " (333, 0.0),\n",
       " (335, 0.0),\n",
       " (336, 0.0),\n",
       " (338, 0.0),\n",
       " (339, 0.0),\n",
       " (340, 0.0),\n",
       " (341, 0.0),\n",
       " (342, 0.0),\n",
       " (343, 0.0),\n",
       " (344, 0.0),\n",
       " (345, 0.0),\n",
       " (346, 0.0),\n",
       " (348, 0.0),\n",
       " (349, 0.0),\n",
       " (350, 0.0),\n",
       " (353, 0.0),\n",
       " (355, 0.0),\n",
       " (356, 0.0),\n",
       " (357, 0.0),\n",
       " (359, 0.0),\n",
       " (360, 0.0),\n",
       " (361, 0.0),\n",
       " (363, 0.0),\n",
       " (366, 0.0),\n",
       " (368, 0.0),\n",
       " (370, 0.0),\n",
       " (371, 0.0),\n",
       " (372, 0.0),\n",
       " (373, 0.0),\n",
       " (375, 0.0),\n",
       " (376, 0.0),\n",
       " (377, 0.0),\n",
       " (378, 0.0),\n",
       " (379, 0.0),\n",
       " (380, 0.0),\n",
       " (381, 0.0),\n",
       " (382, 0.0),\n",
       " (383, 0.0),\n",
       " (385, 0.0),\n",
       " (386, 0.0),\n",
       " (387, 0.0),\n",
       " (388, 0.0),\n",
       " (389, 0.0),\n",
       " (390, 0.0),\n",
       " (391, 0.0),\n",
       " (392, 0.0),\n",
       " (393, 0.0),\n",
       " (396, 0.0),\n",
       " (398, 0.0),\n",
       " (399, 0.0),\n",
       " (400, 0.0),\n",
       " (401, 0.0),\n",
       " (402, 0.0),\n",
       " (403, 0.0),\n",
       " (405, 0.0),\n",
       " (407, 0.0),\n",
       " (408, 0.0),\n",
       " (409, 0.0),\n",
       " (410, 0.0),\n",
       " (411, 0.0),\n",
       " (416, 0.0),\n",
       " (417, 0.0),\n",
       " (418, 0.0),\n",
       " (419, 0.0),\n",
       " (420, 0.0),\n",
       " (423, 0.0),\n",
       " (425, 0.0),\n",
       " (426, 0.0),\n",
       " (427, 0.0),\n",
       " (429, 0.0),\n",
       " (430, 0.0),\n",
       " (433, 0.0),\n",
       " (434, 0.0),\n",
       " (435, 0.0),\n",
       " (436, 0.0),\n",
       " (438, 0.0),\n",
       " (439, 0.0),\n",
       " (440, 0.0),\n",
       " (441, 0.0),\n",
       " (442, 0.0),\n",
       " (443, 0.0),\n",
       " (445, 0.0),\n",
       " (446, 0.0),\n",
       " (447, 0.0),\n",
       " (449, 0.0),\n",
       " (450, 0.0),\n",
       " (451, 0.0),\n",
       " (452, 0.0),\n",
       " (453, 0.0),\n",
       " (455, 0.0),\n",
       " (456, 0.0),\n",
       " (457, 0.0),\n",
       " (458, 0.0),\n",
       " (459, 0.0),\n",
       " (460, 0.0),\n",
       " (462, 0.0),\n",
       " (464, 0.0),\n",
       " (465, 0.0),\n",
       " (470, 0.0),\n",
       " (471, 0.0),\n",
       " (473, 0.0),\n",
       " (474, 0.0),\n",
       " (475, 0.0),\n",
       " (476, 0.0),\n",
       " (477, 0.0),\n",
       " (478, 0.0),\n",
       " (479, 0.0),\n",
       " (481, 0.0),\n",
       " (482, 0.0),\n",
       " (484, 0.0),\n",
       " (485, 0.0),\n",
       " (488, 0.0),\n",
       " (490, 0.0),\n",
       " (494, 0.0),\n",
       " (495, 0.0),\n",
       " (497, 0.0),\n",
       " (498, 0.0),\n",
       " (499, 0.0),\n",
       " (500, 0.0),\n",
       " (501, 0.0),\n",
       " (502, 0.0),\n",
       " (503, 0.0),\n",
       " (504, 0.0),\n",
       " (507, 0.0),\n",
       " (510, 0.0),\n",
       " (511, 0.0),\n",
       " (512, 0.0),\n",
       " (517, 0.0),\n",
       " (519, 0.0),\n",
       " (520, 0.0),\n",
       " (521, 0.0),\n",
       " (522, 0.0),\n",
       " (524, 0.0),\n",
       " (525, 0.0),\n",
       " (526, 0.0),\n",
       " (528, 0.0),\n",
       " (529, 0.0),\n",
       " (530, 0.0),\n",
       " (531, 0.0),\n",
       " (535, 0.0),\n",
       " (536, 0.0),\n",
       " (537, 0.0),\n",
       " (538, 0.0),\n",
       " (539, 0.0),\n",
       " (541, 0.0),\n",
       " (542, 0.0),\n",
       " (543, 0.0),\n",
       " (545, 0.0),\n",
       " (546, 0.0),\n",
       " (548, 0.0),\n",
       " (551, 0.0),\n",
       " (552, 0.0),\n",
       " (553, 0.0),\n",
       " (554, 0.0),\n",
       " (555, 0.0),\n",
       " (556, 0.0),\n",
       " (557, 0.0),\n",
       " (558, 0.0),\n",
       " (561, 0.0),\n",
       " (562, 0.0),\n",
       " (563, 0.0),\n",
       " (566, 0.0),\n",
       " (567, 0.0),\n",
       " (568, 0.0),\n",
       " (569, 0.0),\n",
       " (571, 0.0),\n",
       " (573, 0.0),\n",
       " (576, 0.0),\n",
       " (579, 0.0),\n",
       " (580, 0.0),\n",
       " (583, 0.0),\n",
       " (584, 0.0),\n",
       " (585, 0.0),\n",
       " (586, 0.0),\n",
       " (588, 0.0),\n",
       " (589, 0.0),\n",
       " (590, 0.0),\n",
       " (594, 0.0),\n",
       " (601, 0.0),\n",
       " (602, 0.0),\n",
       " (603, 0.0),\n",
       " (604, 0.0),\n",
       " (605, 0.0),\n",
       " (606, 0.0),\n",
       " (607, 0.0),\n",
       " (609, 0.0),\n",
       " (611, 0.0),\n",
       " (613, 0.0),\n",
       " (614, 0.0),\n",
       " (615, 0.0),\n",
       " (616, 0.0),\n",
       " (617, 0.0),\n",
       " (618, 0.0),\n",
       " (619, 0.0),\n",
       " (620, 0.0),\n",
       " (621, 0.0),\n",
       " (622, 0.0),\n",
       " (623, 0.0),\n",
       " (624, 0.0),\n",
       " (625, 0.0),\n",
       " (626, 0.0),\n",
       " (627, 0.0),\n",
       " (628, 0.0),\n",
       " (630, 0.0),\n",
       " (631, 0.0),\n",
       " (632, 0.0),\n",
       " (633, 0.0),\n",
       " (634, 0.0),\n",
       " (635, 0.0),\n",
       " (636, 0.0),\n",
       " (637, 0.0),\n",
       " (638, 0.0),\n",
       " (639, 0.0),\n",
       " (640, 0.0),\n",
       " (642, 0.0),\n",
       " (645, 0.0),\n",
       " (647, 0.0),\n",
       " (648, 0.0),\n",
       " (650, 0.0),\n",
       " (651, 0.0),\n",
       " (652, 0.0),\n",
       " (653, 0.0),\n",
       " (656, 0.0),\n",
       " (657, 0.0),\n",
       " (658, 0.0),\n",
       " (659, 0.0),\n",
       " (660, 0.0),\n",
       " (662, 0.0),\n",
       " (663, 0.0),\n",
       " (664, 0.0),\n",
       " (665, 0.0),\n",
       " (666, 0.0),\n",
       " (667, 0.0),\n",
       " (668, 0.0),\n",
       " (670, 0.0),\n",
       " (671, 0.0),\n",
       " (672, 0.0),\n",
       " (673, 0.0),\n",
       " (674, 0.0),\n",
       " (675, 0.0),\n",
       " (676, 0.0),\n",
       " (677, 0.0),\n",
       " (679, 0.0),\n",
       " (680, 0.0),\n",
       " (685, 0.0),\n",
       " (688, 0.0),\n",
       " (689, 0.0),\n",
       " (690, 0.0),\n",
       " (693, 0.0),\n",
       " (694, 0.0),\n",
       " (695, 0.0),\n",
       " (696, 0.0),\n",
       " (697, 0.0),\n",
       " (698, 0.0),\n",
       " (699, 0.0),\n",
       " (701, 0.0),\n",
       " (702, 0.0),\n",
       " (703, 0.0),\n",
       " (705, 0.0),\n",
       " (706, 0.0),\n",
       " (710, 0.0),\n",
       " (712, 0.0),\n",
       " (714, 0.0),\n",
       " (716, 0.0),\n",
       " (717, 0.0),\n",
       " (718, 0.0),\n",
       " (719, 0.0),\n",
       " (722, 0.0),\n",
       " (723, 0.0),\n",
       " (724, 0.0),\n",
       " (729, 0.0),\n",
       " (730, 0.0),\n",
       " (731, 0.0),\n",
       " (732, 0.0),\n",
       " (735, 0.0),\n",
       " (739, 0.0),\n",
       " (741, 0.0),\n",
       " (742, 0.0),\n",
       " (743, 0.0),\n",
       " (744, 0.0),\n",
       " (746, 0.0),\n",
       " (748, 0.0),\n",
       " (749, 0.0),\n",
       " (754, 0.0),\n",
       " (755, 0.0),\n",
       " (756, 0.0),\n",
       " (760, 0.0),\n",
       " (761, 0.0),\n",
       " (762, 0.0),\n",
       " (763, 0.0),\n",
       " (764, 0.0),\n",
       " (765, 0.0),\n",
       " (766, 0.0),\n",
       " (767, 0.0),\n",
       " (768, 0.0),\n",
       " (769, 0.0),\n",
       " (771, 0.0),\n",
       " (776, 0.0),\n",
       " (778, 0.0),\n",
       " (780, 0.0),\n",
       " (781, 0.0),\n",
       " (782, 0.0),\n",
       " (783, 0.0),\n",
       " (784, 0.0),\n",
       " (785, 0.0),\n",
       " (786, 0.0),\n",
       " (788, 0.0),\n",
       " (789, 0.0),\n",
       " (790, 0.0),\n",
       " (791, 0.0),\n",
       " (795, 0.0),\n",
       " (797, 0.0),\n",
       " (799, 0.0),\n",
       " (800, 0.0),\n",
       " (801, 0.0),\n",
       " (802, 0.0),\n",
       " (803, 0.0),\n",
       " (804, 0.0),\n",
       " (805, 0.0),\n",
       " (806, 0.0),\n",
       " (807, 0.0),\n",
       " (808, 0.0),\n",
       " (809, 0.0),\n",
       " (810, 0.0),\n",
       " (811, 0.0),\n",
       " (812, 0.0),\n",
       " (813, 0.0),\n",
       " (814, 0.0),\n",
       " (815, 0.0),\n",
       " (816, 0.0),\n",
       " (817, 0.0),\n",
       " (818, 0.0),\n",
       " (819, 0.0),\n",
       " (820, 0.0),\n",
       " (821, 0.0),\n",
       " (822, 0.0),\n",
       " (823, 0.0),\n",
       " (824, 0.0),\n",
       " (826, 0.0),\n",
       " (827, 0.0),\n",
       " (828, 0.0),\n",
       " (829, 0.0),\n",
       " (830, 0.0),\n",
       " (831, 0.0),\n",
       " (832, 0.0),\n",
       " (833, 0.0),\n",
       " (834, 0.0),\n",
       " (835, 0.0),\n",
       " (837, 0.0),\n",
       " (838, 0.0),\n",
       " (839, 0.0),\n",
       " (840, 0.0),\n",
       " (841, 0.0),\n",
       " (842, 0.0),\n",
       " (843, 0.0),\n",
       " (844, 0.0),\n",
       " (845, 0.0),\n",
       " (846, 0.0),\n",
       " (847, 0.0),\n",
       " (848, 0.0),\n",
       " (849, 0.0),\n",
       " (850, 0.0),\n",
       " (851, 0.0),\n",
       " (852, 0.0),\n",
       " (853, 0.0),\n",
       " (854, 0.0),\n",
       " (855, 0.0),\n",
       " (857, 0.0),\n",
       " (858, 0.0),\n",
       " (859, 0.0),\n",
       " (860, 0.0),\n",
       " (861, 0.0),\n",
       " (862, 0.0),\n",
       " (863, 0.0),\n",
       " (864, 0.0),\n",
       " (865, 0.0),\n",
       " (866, 0.0),\n",
       " (867, 0.0),\n",
       " (869, 0.0),\n",
       " (870, 0.0),\n",
       " (871, 0.0),\n",
       " (872, 0.0),\n",
       " (874, 0.0),\n",
       " (875, 0.0),\n",
       " (876, 0.0),\n",
       " ...]"
      ]
     },
     "execution_count": 441,
     "metadata": {},
     "output_type": "execute_result"
    }
   ],
   "source": [
    "sorted_similar_songs = sorted(similar_songs, key=lambda x:x[1], reverse=True)\n",
    "sorted_similar_songs"
   ]
  },
  {
   "cell_type": "code",
   "execution_count": 442,
   "metadata": {},
   "outputs": [],
   "source": [
    "def get_artist_from_index(index):\n",
    "    return df[df.index == index][\"Artist\"].values[0]"
   ]
  },
  {
   "cell_type": "code",
   "execution_count": 443,
   "metadata": {},
   "outputs": [
    {
     "name": "stdout",
     "output_type": "stream",
     "text": [
      "Canciones similares a: The Road Ahead (Miles Of The Unknown) de Artista: Maroon 5\n",
      "\n",
      "bad guy-> Artista: Maroon 5\n",
      "Zelfs Je Naam Is Mooi-> Artista: Hero\n",
      "Somebody Told Me-> Artista: BLØF\n",
      "Just Breathe-> Artista: BLØF\n",
      "Sometimes You Can't Make It On Your Own-> Artista: Beyoncé\n"
     ]
    }
   ],
   "source": [
    "print(\"Canciones similares a: \"+get_title_from_index(6)+\" de Artista: \"+get_artist_from_index(6))\n",
    "print(\"\")\n",
    "for song in sorted_similar_songs[1:6]:\n",
    "    print(get_title_from_index(song[0])+\"-> Artista: \"+get_artist_from_index(song[0]))"
   ]
  }
 ],
 "metadata": {
  "kernelspec": {
   "display_name": "Python 3",
   "language": "python",
   "name": "python3"
  },
  "language_info": {
   "codemirror_mode": {
    "name": "ipython",
    "version": 3
   },
   "file_extension": ".py",
   "mimetype": "text/x-python",
   "name": "python",
   "nbconvert_exporter": "python",
   "pygments_lexer": "ipython3",
   "version": "3.8.5"
  }
 },
 "nbformat": 4,
 "nbformat_minor": 4
}
